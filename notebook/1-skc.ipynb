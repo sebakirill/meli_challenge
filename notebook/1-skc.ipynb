{
 "cells": [
  {
   "cell_type": "markdown",
   "metadata": {},
   "source": [
    "# Clarificaciones\n",
    "In the challenge, there is no investigation into the data due to a lack of knowledge about their behavior and meaning. For a proper Exploratory Data Analysis (EDA), a meeting should be held with the dataset owners."
   ]
  },
  {
   "cell_type": "code",
   "execution_count": 1,
   "metadata": {},
   "outputs": [],
   "source": [
    "%load_ext autoreload\n",
    "%autoreload 2"
   ]
  },
  {
   "cell_type": "markdown",
   "metadata": {},
   "source": [
    "# Libraries"
   ]
  },
  {
   "cell_type": "code",
   "execution_count": 2,
   "metadata": {},
   "outputs": [],
   "source": [
    "import os\n",
    "import pandas as pd\n",
    "import yaml\n",
    "from sklearn.pipeline import Pipeline\n",
    "from sklearn.compose import ColumnTransformer\n",
    "from sklearn.linear_model import LogisticRegression\n",
    "from sklearn.ensemble import RandomForestClassifier\n",
    "from lightgbm import LGBMClassifier\n",
    "from xgboost import XGBClassifier\n",
    "from sklearn.metrics import roc_auc_score\n",
    "from feature_engine.imputation import CategoricalImputer, MeanMedianImputer\n",
    "from src.data.make_dataset import get_Xs_ys, ReduceMemoryUsageTransformer\n",
    "from src.preprocess.encoding import one_hot_encoder, freq_encoder\n",
    "from src.preprocess.feature_selection import (\n",
    "    pipe_feature_selection,\n",
    "    save_selected_columns,\n",
    ")\n",
    "from src.utils.utils import correlation_matrix, check_first_buy, class_weight\n",
    "from src.pipeline.pipeline import main_pipe"
   ]
  },
  {
   "cell_type": "markdown",
   "metadata": {},
   "source": [
    "## Data Extraction"
   ]
  },
  {
   "cell_type": "markdown",
   "metadata": {},
   "source": [
    "### Params"
   ]
  },
  {
   "cell_type": "code",
   "execution_count": 3,
   "metadata": {},
   "outputs": [],
   "source": [
    "url_dest = os.getcwd() + \"/../data/sample_HVA_DS_Beauty.zip\"\n",
    "get_Xs_ys_dict = {\n",
    "    \"y_col\": \"OBJETIVO\",\n",
    "    \"url\": \"https://github.com/sebakirill/meli_challenge/raw/develop/data/sample_HVA_DS_Beauty.zip\",\n",
    "    \"dst\": url_dest,\n",
    "    \"member_name\": \"raw/sample_HVA_DS_Beauty.csv\",\n",
    "}"
   ]
  },
  {
   "cell_type": "markdown",
   "metadata": {},
   "source": [
    "Extract data with a request from a GitHub url"
   ]
  },
  {
   "cell_type": "code",
   "execution_count": 4,
   "metadata": {},
   "outputs": [],
   "source": [
    "X_train, X_test, y_train, y_test = get_Xs_ys(**get_Xs_ys_dict)"
   ]
  },
  {
   "cell_type": "markdown",
   "metadata": {},
   "source": [
    "### Check Fist Buy\n",
    "\n",
    "Check if the customers buy beauty products for the first time."
   ]
  },
  {
   "cell_type": "code",
   "execution_count": 5,
   "metadata": {},
   "outputs": [
    {
     "data": {
      "text/html": [
       "<div>\n",
       "<style scoped>\n",
       "    .dataframe tbody tr th:only-of-type {\n",
       "        vertical-align: middle;\n",
       "    }\n",
       "\n",
       "    .dataframe tbody tr th {\n",
       "        vertical-align: top;\n",
       "    }\n",
       "\n",
       "    .dataframe thead th {\n",
       "        text-align: right;\n",
       "    }\n",
       "</style>\n",
       "<table border=\"1\" class=\"dataframe\">\n",
       "  <thead>\n",
       "    <tr style=\"text-align: right;\">\n",
       "      <th></th>\n",
       "      <th>OBJETIVO</th>\n",
       "    </tr>\n",
       "    <tr>\n",
       "      <th>CUST_ID</th>\n",
       "      <th></th>\n",
       "    </tr>\n",
       "  </thead>\n",
       "  <tbody>\n",
       "  </tbody>\n",
       "</table>\n",
       "</div>"
      ],
      "text/plain": [
       "Empty DataFrame\n",
       "Columns: [OBJETIVO]\n",
       "Index: []"
      ]
     },
     "execution_count": 5,
     "metadata": {},
     "output_type": "execute_result"
    }
   ],
   "source": [
    "check_first_buy(pd.concat([X_train, y_train], axis=1))"
   ]
  },
  {
   "cell_type": "code",
   "execution_count": 6,
   "metadata": {},
   "outputs": [
    {
     "data": {
      "text/html": [
       "<div>\n",
       "<style scoped>\n",
       "    .dataframe tbody tr th:only-of-type {\n",
       "        vertical-align: middle;\n",
       "    }\n",
       "\n",
       "    .dataframe tbody tr th {\n",
       "        vertical-align: top;\n",
       "    }\n",
       "\n",
       "    .dataframe thead th {\n",
       "        text-align: right;\n",
       "    }\n",
       "</style>\n",
       "<table border=\"1\" class=\"dataframe\">\n",
       "  <thead>\n",
       "    <tr style=\"text-align: right;\">\n",
       "      <th></th>\n",
       "      <th>OBJETIVO</th>\n",
       "    </tr>\n",
       "    <tr>\n",
       "      <th>CUST_ID</th>\n",
       "      <th></th>\n",
       "    </tr>\n",
       "  </thead>\n",
       "  <tbody>\n",
       "  </tbody>\n",
       "</table>\n",
       "</div>"
      ],
      "text/plain": [
       "Empty DataFrame\n",
       "Columns: [OBJETIVO]\n",
       "Index: []"
      ]
     },
     "execution_count": 6,
     "metadata": {},
     "output_type": "execute_result"
    }
   ],
   "source": [
    "check_first_buy(pd.concat([X_test, y_test], axis=1))"
   ]
  },
  {
   "cell_type": "markdown",
   "metadata": {},
   "source": [
    "## Feature Selection\n",
    "Filter the important features using a simplified XGBoost model and visualization with a corr matrix."
   ]
  },
  {
   "cell_type": "markdown",
   "metadata": {},
   "source": [
    "### params\n"
   ]
  },
  {
   "cell_type": "code",
   "execution_count": 5,
   "metadata": {},
   "outputs": [],
   "source": [
    "pipe_feature_selection_dict = {\n",
    "    \"objective\": \"binary:logistic\",\n",
    "    \"enable_categorical\": True,\n",
    "    \"imputation_num\": \"mean\",\n",
    "    \"imputation_cat\": \"frequent\",\n",
    "    \"col\": [\"PHOTO_DATE\", \"SIT_SITE_ID\"],\n",
    "}"
   ]
  },
  {
   "cell_type": "markdown",
   "metadata": {},
   "source": [
    "## pipe"
   ]
  },
  {
   "cell_type": "code",
   "execution_count": null,
   "metadata": {},
   "outputs": [],
   "source": [
    "pipe_feature_selection = pipe_feature_selection(**pipe_feature_selection_dict)\n",
    "pipe_feature_selection.fit(X_train, y_train)"
   ]
  },
  {
   "cell_type": "markdown",
   "metadata": {},
   "source": [
    "## Columns with feature importance equal to zero"
   ]
  },
  {
   "cell_type": "code",
   "execution_count": 51,
   "metadata": {},
   "outputs": [],
   "source": [
    "selected_columns = [\n",
    "    col\n",
    "    for col, importance in zip(\n",
    "        pipe_feature_selection.named_steps[\"xgb_class\"].get_booster().feature_names,\n",
    "        pipe_feature_selection.named_steps[\"xgb_class\"].feature_importances_,\n",
    "    )\n",
    "    if importance <= 0\n",
    "]"
   ]
  },
  {
   "cell_type": "markdown",
   "metadata": {},
   "source": [
    "The \"selected_columns\" are the columns that should be removed from the dataset as they do not enrich the model"
   ]
  },
  {
   "cell_type": "code",
   "execution_count": 52,
   "metadata": {},
   "outputs": [],
   "source": [
    "reduce_memory_usage_transformer_dict = {\n",
    "    \"feature_selection\": True,\n",
    "    \"col_selec\": selected_columns,\n",
    "}"
   ]
  },
  {
   "cell_type": "code",
   "execution_count": 12,
   "metadata": {},
   "outputs": [],
   "source": [
    "memory_step = ReduceMemoryUsageTransformer(**reduce_memory_usage_transformer_dict)"
   ]
  },
  {
   "cell_type": "code",
   "execution_count": 13,
   "metadata": {},
   "outputs": [],
   "source": [
    "X_mem_red = memory_step.fit_transform(X_train, y_train)\n",
    "cat_col = X_mem_red.select_dtypes('object').columns\n",
    "num_col = X_mem_red.select_dtypes('number').columns"
   ]
  },
  {
   "cell_type": "markdown",
   "metadata": {},
   "source": [
    "# Pipeline"
   ]
  },
  {
   "cell_type": "markdown",
   "metadata": {},
   "source": [
    "## params extractor"
   ]
  },
  {
   "cell_type": "code",
   "execution_count": 14,
   "metadata": {},
   "outputs": [],
   "source": [
    "def extract_best_params(url_file):\n",
    "    with open(url_file, \"r\") as yaml_file:\n",
    "        config = yaml.safe_load(yaml_file)\n",
    "        num_imputer = config.pop(\"imp_num\")\n",
    "        cat_imputer = config.pop(\"imp_cat\")\n",
    "    return config, num_imputer, cat_imputer"
   ]
  },
  {
   "cell_type": "markdown",
   "metadata": {},
   "source": [
    "## XGBoost"
   ]
  },
  {
   "cell_type": "markdown",
   "metadata": {},
   "source": [
    "### Pipeline XGBoost Frequency Enconding"
   ]
  },
  {
   "cell_type": "markdown",
   "metadata": {},
   "source": [
    "#### params"
   ]
  },
  {
   "cell_type": "code",
   "execution_count": 15,
   "metadata": {},
   "outputs": [],
   "source": [
    "url_xgb_fe = (\n",
    "    os.getcwd() + \"/../conf/best_hiperparameters/xgboost_frequency_encoder.yaml\"\n",
    ")\n",
    "cfg_xgb_fe, cfg_xgb_fe_imp_num, cfg_xgb_fe_imp_cat  = extract_best_params(url_xgb_fe)"
   ]
  },
  {
   "cell_type": "markdown",
   "metadata": {},
   "source": [
    "#### pipe"
   ]
  },
  {
   "cell_type": "code",
   "execution_count": 16,
   "metadata": {},
   "outputs": [],
   "source": [
    "model_xgb_fe_pipe = main_pipe(\n",
    "    imp_cat=cfg_xgb_fe_imp_cat,\n",
    "    imp_num=cfg_xgb_fe_imp_num,\n",
    "    cat_col=cat_col,\n",
    "    num_col=num_col,\n",
    "    cfg_model=cfg_xgb_fe,\n",
    "    model=XGBClassifier,\n",
    "    encoder_type=freq_encoder,\n",
    "    feature_selection=reduce_memory_usage_transformer_dict[\"feature_selection\"],\n",
    "    col_selec=reduce_memory_usage_transformer_dict[\"col_selec\"],\n",
    ")"
   ]
  },
  {
   "cell_type": "markdown",
   "metadata": {},
   "source": [
    "### Pipeline XGBoost One Hot Encoding"
   ]
  },
  {
   "cell_type": "markdown",
   "metadata": {},
   "source": [
    "#### params"
   ]
  },
  {
   "cell_type": "code",
   "execution_count": 17,
   "metadata": {},
   "outputs": [],
   "source": [
    "url_xgb_ohe = os.getcwd() + \"/../conf/best_hiperparameters/xgboost_one_hot_encoder.yaml\"\n",
    "cfg_xgb_ohe, cfg_xgb_ohe_imp_num, cfg_xgb_ohe_imp_cat  = extract_best_params(url_xgb_ohe)"
   ]
  },
  {
   "cell_type": "markdown",
   "metadata": {},
   "source": [
    "#### pipe"
   ]
  },
  {
   "cell_type": "code",
   "execution_count": 18,
   "metadata": {},
   "outputs": [],
   "source": [
    "model_xgb_ohe_pipe = main_pipe(\n",
    "    imp_cat=cfg_xgb_ohe_imp_cat,\n",
    "    imp_num=cfg_xgb_ohe_imp_num,\n",
    "    cat_col=cat_col,\n",
    "    num_col=num_col,\n",
    "    cfg_model=cfg_xgb_fe,\n",
    "    model=XGBClassifier,\n",
    "    encoder_type=one_hot_encoder,\n",
    "    feature_selection=reduce_memory_usage_transformer_dict[\"feature_selection\"],\n",
    "    col_selec=reduce_memory_usage_transformer_dict[\"col_selec\"],\n",
    ")"
   ]
  },
  {
   "cell_type": "markdown",
   "metadata": {},
   "source": [
    "## LightGBM"
   ]
  },
  {
   "cell_type": "markdown",
   "metadata": {},
   "source": [
    "### Pipeline LightGBM Frequency Encoding"
   ]
  },
  {
   "cell_type": "markdown",
   "metadata": {},
   "source": [
    "#### params"
   ]
  },
  {
   "cell_type": "code",
   "execution_count": 19,
   "metadata": {},
   "outputs": [],
   "source": [
    "url_lgbm_fe = (\n",
    "    os.getcwd() + \"/../conf/best_hiperparameters/lightgbm_frequency_encoder.yaml\"\n",
    ")\n",
    "cfg_lgbm_fe, cfg_lgbm_fe_imp_num, cfg_lgbm_fe_imp_cat = extract_best_params(url_lgbm_fe)"
   ]
  },
  {
   "cell_type": "markdown",
   "metadata": {},
   "source": [
    "#### pipe"
   ]
  },
  {
   "cell_type": "code",
   "execution_count": 20,
   "metadata": {},
   "outputs": [],
   "source": [
    "model_lgbm_fe_pipe = model_lgbm_ohe_pipe = main_pipe(\n",
    "    imp_cat=cfg_lgbm_fe_imp_cat,\n",
    "    imp_num=cfg_lgbm_fe_imp_num,\n",
    "    cat_col=cat_col,\n",
    "    num_col=num_col,\n",
    "    cfg_model=cfg_lgbm_fe,\n",
    "    model=LGBMClassifier,\n",
    "    encoder_type=freq_encoder,\n",
    "    feature_selection=reduce_memory_usage_transformer_dict[\"feature_selection\"],\n",
    "    col_selec=reduce_memory_usage_transformer_dict[\"col_selec\"],\n",
    ")"
   ]
  },
  {
   "cell_type": "markdown",
   "metadata": {},
   "source": [
    "### Pipeline LightGBM One Hot Encoding"
   ]
  },
  {
   "cell_type": "markdown",
   "metadata": {},
   "source": [
    "#### params"
   ]
  },
  {
   "cell_type": "code",
   "execution_count": 21,
   "metadata": {},
   "outputs": [],
   "source": [
    "url_lgbm_ohe = (\n",
    "    os.getcwd() + \"/../conf/best_hiperparameters/lightgbm_one_hot_encoder.yaml\"\n",
    ")\n",
    "cfg_lgbm_ohe, cfg_lgbm_ohe_imp_num, cfg_lgbm_ohe_imp_cat = extract_best_params(url_lgbm_ohe)"
   ]
  },
  {
   "cell_type": "markdown",
   "metadata": {},
   "source": [
    "#### pipe"
   ]
  },
  {
   "cell_type": "code",
   "execution_count": 22,
   "metadata": {},
   "outputs": [],
   "source": [
    "model_lgbm_ohe_pipe = main_pipe(\n",
    "    imp_cat=cfg_lgbm_ohe_imp_cat,\n",
    "    imp_num=cfg_lgbm_ohe_imp_num,\n",
    "    cat_col=cat_col,\n",
    "    num_col=num_col,\n",
    "    cfg_model=cfg_lgbm_ohe,\n",
    "    model=LGBMClassifier,\n",
    "    encoder_type=one_hot_encoder,\n",
    "    feature_selection=reduce_memory_usage_transformer_dict[\"feature_selection\"],\n",
    "    col_selec=reduce_memory_usage_transformer_dict[\"col_selec\"],\n",
    ")"
   ]
  },
  {
   "cell_type": "markdown",
   "metadata": {},
   "source": [
    "## Logistic Regression"
   ]
  },
  {
   "cell_type": "markdown",
   "metadata": {},
   "source": [
    "### Pipeline Logistic Regression Frequency Encoding"
   ]
  },
  {
   "cell_type": "markdown",
   "metadata": {},
   "source": [
    "#### params"
   ]
  },
  {
   "cell_type": "code",
   "execution_count": 23,
   "metadata": {},
   "outputs": [],
   "source": [
    "url_lgr_fe = (\n",
    "    os.getcwd()\n",
    "    + \"/../conf/best_hiperparameters/logistic_regression_frequency_encoder.yaml\"\n",
    ")\n",
    "cfg_lgr_fe, cfg_lgr_fe_imp_num, cfg_lgr_fe_imp_cat = extract_best_params(url_lgr_fe)"
   ]
  },
  {
   "cell_type": "markdown",
   "metadata": {},
   "source": [
    "#### pipe"
   ]
  },
  {
   "cell_type": "code",
   "execution_count": 24,
   "metadata": {},
   "outputs": [],
   "source": [
    "model_lgr_fe_pipe = model_lgbm_ohe_pipe = main_pipe(\n",
    "    imp_cat=cfg_lgr_fe_imp_cat,\n",
    "    imp_num=cfg_lgr_fe_imp_num,\n",
    "    cat_col=cat_col,\n",
    "    num_col=num_col,\n",
    "    cfg_model=cfg_lgr_fe,\n",
    "    model=LogisticRegression,\n",
    "    encoder_type=freq_encoder,\n",
    "    feature_selection=reduce_memory_usage_transformer_dict[\"feature_selection\"],\n",
    "    col_selec=reduce_memory_usage_transformer_dict[\"col_selec\"],\n",
    ")"
   ]
  },
  {
   "cell_type": "markdown",
   "metadata": {},
   "source": [
    "### Pipeline Logistic Regression One Hot Encoding"
   ]
  },
  {
   "cell_type": "markdown",
   "metadata": {},
   "source": [
    "#### params"
   ]
  },
  {
   "cell_type": "code",
   "execution_count": 25,
   "metadata": {},
   "outputs": [],
   "source": [
    "url_lgr_ohe = (\n",
    "    os.getcwd()\n",
    "    + \"/../conf/best_hiperparameters/logistic_regression_one_hot_encoder.yaml\"\n",
    ")\n",
    "cfg_lgr_ohe, cfg_lgr_ohe_imp_num, cfg_lgr_ohe_imp_cat = extract_best_params(url_lgr_ohe)"
   ]
  },
  {
   "cell_type": "code",
   "execution_count": 26,
   "metadata": {},
   "outputs": [],
   "source": [
    "model_lgr_ohe_pipe = main_pipe(\n",
    "    imp_cat=cfg_lgr_ohe_imp_cat,\n",
    "    imp_num=cfg_lgr_ohe_imp_num,\n",
    "    cat_col=cat_col,\n",
    "    num_col=num_col,\n",
    "    cfg_model=cfg_lgr_ohe,\n",
    "    model=LogisticRegression,\n",
    "    encoder_type=one_hot_encoder,\n",
    "    feature_selection=reduce_memory_usage_transformer_dict[\"feature_selection\"],\n",
    "    col_selec=reduce_memory_usage_transformer_dict[\"col_selec\"],\n",
    ")"
   ]
  },
  {
   "cell_type": "markdown",
   "metadata": {},
   "source": [
    "## Random Forest"
   ]
  },
  {
   "cell_type": "markdown",
   "metadata": {},
   "source": [
    "### Pipeline Random Forest Frequency Encoding"
   ]
  },
  {
   "cell_type": "markdown",
   "metadata": {},
   "source": [
    "#### params"
   ]
  },
  {
   "cell_type": "code",
   "execution_count": 27,
   "metadata": {},
   "outputs": [],
   "source": [
    "url_rf_fe = (\n",
    "    os.getcwd() + \"/../conf/best_hiperparameters/random_forest_frequency_encoder.yaml\"\n",
    ")\n",
    "cfg_rf_fe, cfg_rf_fe_imp_num, cfg_rf_fe_imp_cat = extract_best_params(url_rf_fe)"
   ]
  },
  {
   "cell_type": "markdown",
   "metadata": {},
   "source": [
    "#### pipe"
   ]
  },
  {
   "cell_type": "code",
   "execution_count": 28,
   "metadata": {},
   "outputs": [],
   "source": [
    "model_rf_fe_pipe = main_pipe(\n",
    "    imp_cat=cfg_rf_fe_imp_cat,\n",
    "    imp_num=cfg_rf_fe_imp_num,\n",
    "    cat_col=cat_col,\n",
    "    num_col=num_col,\n",
    "    cfg_model=cfg_rf_fe,\n",
    "    model=RandomForestClassifier,\n",
    "    encoder_type=freq_encoder,\n",
    "    feature_selection=reduce_memory_usage_transformer_dict[\"feature_selection\"],\n",
    "    col_selec=reduce_memory_usage_transformer_dict[\"col_selec\"],\n",
    ")"
   ]
  },
  {
   "cell_type": "markdown",
   "metadata": {},
   "source": [
    "### Pipeline Random Forest One Hot Encoding"
   ]
  },
  {
   "cell_type": "markdown",
   "metadata": {},
   "source": [
    "#### params"
   ]
  },
  {
   "cell_type": "code",
   "execution_count": 29,
   "metadata": {},
   "outputs": [],
   "source": [
    "url_rf_ohe = (\n",
    "    os.getcwd() + \"/../conf/best_hiperparameters/random_forest_one_hot_encoder.yaml\"\n",
    ")\n",
    "cfg_rf_ohe, cfg_rf_ohe_imp_num, cfg_rf_ohe_imp_cat = extract_best_params(url_rf_ohe)"
   ]
  },
  {
   "cell_type": "code",
   "execution_count": 30,
   "metadata": {},
   "outputs": [],
   "source": [
    "model_rf_ohe_pipe = main_pipe(\n",
    "    imp_cat=cfg_rf_ohe_imp_cat,\n",
    "    imp_num=cfg_rf_ohe_imp_num,\n",
    "    cat_col=cat_col,\n",
    "    num_col=num_col,\n",
    "    cfg_model=cfg_rf_ohe,\n",
    "    model=RandomForestClassifier,\n",
    "    encoder_type=one_hot_encoder,\n",
    "    feature_selection=reduce_memory_usage_transformer_dict[\"feature_selection\"],\n",
    "    col_selec=reduce_memory_usage_transformer_dict[\"col_selec\"],\n",
    ")"
   ]
  },
  {
   "cell_type": "markdown",
   "metadata": {},
   "source": [
    "# Fit Model"
   ]
  },
  {
   "cell_type": "code",
   "execution_count": 31,
   "metadata": {},
   "outputs": [],
   "source": [
    "def fit_model(model, X_train, y_train, X_test, y_test):\n",
    "    model.fit(X_train, y_train)\n",
    "    y_pred=model.predict(X_test)\n",
    "    return roc_auc_score(y_test, y_pred), model"
   ]
  },
  {
   "cell_type": "code",
   "execution_count": 32,
   "metadata": {},
   "outputs": [],
   "source": [
    "models_pipe = [model_xgb_fe_pipe, model_xgb_ohe_pipe, model_lgbm_fe_pipe, model_lgbm_ohe_pipe,\n",
    "                model_lgr_fe_pipe, model_lgr_ohe_pipe, model_rf_fe_pipe, model_rf_fe_pipe]"
   ]
  },
  {
   "cell_type": "code",
   "execution_count": 33,
   "metadata": {},
   "outputs": [],
   "source": [
    "roc_results = []\n",
    "models_fited = []"
   ]
  },
  {
   "cell_type": "code",
   "execution_count": null,
   "metadata": {},
   "outputs": [],
   "source": [
    "for model in models_pipe:\n",
    "    roc, model_fited =fit_model(model, X_train, y_train, X_test, y_test)\n",
    "    roc_results.add(roc)\n",
    "    model_fited.add(model_fited)"
   ]
  }
 ],
 "metadata": {
  "kernelspec": {
   "display_name": "wine_quality",
   "language": "python",
   "name": "python3"
  },
  "language_info": {
   "codemirror_mode": {
    "name": "ipython",
    "version": 3
   },
   "file_extension": ".py",
   "mimetype": "text/x-python",
   "name": "python",
   "nbconvert_exporter": "python",
   "pygments_lexer": "ipython3",
   "version": "3.11.7"
  }
 },
 "nbformat": 4,
 "nbformat_minor": 2
}
