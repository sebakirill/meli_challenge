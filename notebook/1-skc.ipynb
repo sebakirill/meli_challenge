{
 "cells": [
  {
   "cell_type": "markdown",
   "metadata": {},
   "source": [
    "# Clarificaciones\n",
    "In the challenge, there is no investigation into the data due to a lack of knowledge about their behavior and meaning. For a proper Exploratory Data Analysis (EDA), a meeting should be held with the dataset owners."
   ]
  },
  {
   "cell_type": "code",
   "execution_count": 1,
   "metadata": {},
   "outputs": [],
   "source": [
    "%load_ext autoreload\n",
    "%autoreload 2"
   ]
  },
  {
   "cell_type": "markdown",
   "metadata": {},
   "source": [
    "# Libraries"
   ]
  },
  {
   "cell_type": "code",
   "execution_count": 2,
   "metadata": {},
   "outputs": [],
   "source": [
    "import os\n",
    "import pandas as pd\n",
    "import yaml\n",
    "from sklearn.pipeline import Pipeline\n",
    "from sklearn.compose import ColumnTransformer\n",
    "from sklearn.linear_model import LogisticRegression\n",
    "from sklearn.ensemble import RandomForestClassifier\n",
    "from lightgbm import LGBMClassifier\n",
    "from xgboost import XGBClassifier\n",
    "from feature_engine.imputation import CategoricalImputer, MeanMedianImputer\n",
    "from src.data.make_dataset import get_Xs_ys, ReduceMemoryUsageTransformer\n",
    "from src.preprocess.encoding import one_hot_encoder, freq_encoder\n",
    "from src.preprocess.feature_selection import (\n",
    "    pipe_feature_selection,\n",
    "    save_selected_columns,\n",
    ")\n",
    "from src.utils.utils import correlation_matrix, check_first_buy, class_weight"
   ]
  },
  {
   "cell_type": "markdown",
   "metadata": {},
   "source": [
    "## Data Extraction"
   ]
  },
  {
   "cell_type": "markdown",
   "metadata": {},
   "source": [
    "### Params"
   ]
  },
  {
   "cell_type": "code",
   "execution_count": 3,
   "metadata": {},
   "outputs": [],
   "source": [
    "url_dest = os.getcwd() + \"/../data/sample_HVA_DS_Beauty.zip\"\n",
    "get_Xs_ys_dict = {\n",
    "    \"y_col\": \"OBJETIVO\",\n",
    "    \"url\": \"https://github.com/sebakirill/meli_challenge/raw/develop/data/sample_HVA_DS_Beauty.zip\",\n",
    "    \"dst\": url_dest,\n",
    "    \"member_name\": \"raw/sample_HVA_DS_Beauty.csv\",\n",
    "}"
   ]
  },
  {
   "cell_type": "markdown",
   "metadata": {},
   "source": [
    "Extract data with a request from a GitHub url"
   ]
  },
  {
   "cell_type": "code",
   "execution_count": 4,
   "metadata": {},
   "outputs": [],
   "source": [
    "X_train, X_test, y_train, y_test = get_Xs_ys(**get_Xs_ys_dict)"
   ]
  },
  {
   "cell_type": "markdown",
   "metadata": {},
   "source": [
    "### Check Fist Buy\n",
    "\n",
    "Check if the customers buy beauty products for the first time."
   ]
  },
  {
   "cell_type": "code",
   "execution_count": 5,
   "metadata": {},
   "outputs": [
    {
     "data": {
      "text/html": [
       "<div>\n",
       "<style scoped>\n",
       "    .dataframe tbody tr th:only-of-type {\n",
       "        vertical-align: middle;\n",
       "    }\n",
       "\n",
       "    .dataframe tbody tr th {\n",
       "        vertical-align: top;\n",
       "    }\n",
       "\n",
       "    .dataframe thead th {\n",
       "        text-align: right;\n",
       "    }\n",
       "</style>\n",
       "<table border=\"1\" class=\"dataframe\">\n",
       "  <thead>\n",
       "    <tr style=\"text-align: right;\">\n",
       "      <th></th>\n",
       "      <th>OBJETIVO</th>\n",
       "    </tr>\n",
       "    <tr>\n",
       "      <th>CUST_ID</th>\n",
       "      <th></th>\n",
       "    </tr>\n",
       "  </thead>\n",
       "  <tbody>\n",
       "  </tbody>\n",
       "</table>\n",
       "</div>"
      ],
      "text/plain": [
       "Empty DataFrame\n",
       "Columns: [OBJETIVO]\n",
       "Index: []"
      ]
     },
     "execution_count": 5,
     "metadata": {},
     "output_type": "execute_result"
    }
   ],
   "source": [
    "check_first_buy(pd.concat([X_train, y_train], axis=1))"
   ]
  },
  {
   "cell_type": "code",
   "execution_count": 6,
   "metadata": {},
   "outputs": [
    {
     "data": {
      "text/html": [
       "<div>\n",
       "<style scoped>\n",
       "    .dataframe tbody tr th:only-of-type {\n",
       "        vertical-align: middle;\n",
       "    }\n",
       "\n",
       "    .dataframe tbody tr th {\n",
       "        vertical-align: top;\n",
       "    }\n",
       "\n",
       "    .dataframe thead th {\n",
       "        text-align: right;\n",
       "    }\n",
       "</style>\n",
       "<table border=\"1\" class=\"dataframe\">\n",
       "  <thead>\n",
       "    <tr style=\"text-align: right;\">\n",
       "      <th></th>\n",
       "      <th>OBJETIVO</th>\n",
       "    </tr>\n",
       "    <tr>\n",
       "      <th>CUST_ID</th>\n",
       "      <th></th>\n",
       "    </tr>\n",
       "  </thead>\n",
       "  <tbody>\n",
       "  </tbody>\n",
       "</table>\n",
       "</div>"
      ],
      "text/plain": [
       "Empty DataFrame\n",
       "Columns: [OBJETIVO]\n",
       "Index: []"
      ]
     },
     "execution_count": 6,
     "metadata": {},
     "output_type": "execute_result"
    }
   ],
   "source": [
    "check_first_buy(pd.concat([X_test, y_test], axis=1))"
   ]
  },
  {
   "cell_type": "markdown",
   "metadata": {},
   "source": [
    "## Feature Selection\n",
    "Filter the important features using a simplified XGBoost model and visualization with a corr matrix."
   ]
  },
  {
   "cell_type": "markdown",
   "metadata": {},
   "source": [
    "### params\n"
   ]
  },
  {
   "cell_type": "code",
   "execution_count": 7,
   "metadata": {},
   "outputs": [],
   "source": [
    "pipe_feature_selection_dict = {\n",
    "    \"objective\": \"binary:logistic\",\n",
    "    \"enable_categorical\": True,\n",
    "    \"imputation_num\": \"mean\",\n",
    "    \"imputation_cat\": \"frequent\",\n",
    "    \"col\": [\"PHOTO_DATE\", \"SIT_SITE_ID\"],\n",
    "}"
   ]
  },
  {
   "cell_type": "markdown",
   "metadata": {},
   "source": [
    "## pipe"
   ]
  },
  {
   "cell_type": "code",
   "execution_count": 8,
   "metadata": {},
   "outputs": [
    {
     "data": {
      "text/html": [
       "<style>#sk-container-id-1 {color: black;}#sk-container-id-1 pre{padding: 0;}#sk-container-id-1 div.sk-toggleable {background-color: white;}#sk-container-id-1 label.sk-toggleable__label {cursor: pointer;display: block;width: 100%;margin-bottom: 0;padding: 0.3em;box-sizing: border-box;text-align: center;}#sk-container-id-1 label.sk-toggleable__label-arrow:before {content: \"▸\";float: left;margin-right: 0.25em;color: #696969;}#sk-container-id-1 label.sk-toggleable__label-arrow:hover:before {color: black;}#sk-container-id-1 div.sk-estimator:hover label.sk-toggleable__label-arrow:before {color: black;}#sk-container-id-1 div.sk-toggleable__content {max-height: 0;max-width: 0;overflow: hidden;text-align: left;background-color: #f0f8ff;}#sk-container-id-1 div.sk-toggleable__content pre {margin: 0.2em;color: black;border-radius: 0.25em;background-color: #f0f8ff;}#sk-container-id-1 input.sk-toggleable__control:checked~div.sk-toggleable__content {max-height: 200px;max-width: 100%;overflow: auto;}#sk-container-id-1 input.sk-toggleable__control:checked~label.sk-toggleable__label-arrow:before {content: \"▾\";}#sk-container-id-1 div.sk-estimator input.sk-toggleable__control:checked~label.sk-toggleable__label {background-color: #d4ebff;}#sk-container-id-1 div.sk-label input.sk-toggleable__control:checked~label.sk-toggleable__label {background-color: #d4ebff;}#sk-container-id-1 input.sk-hidden--visually {border: 0;clip: rect(1px 1px 1px 1px);clip: rect(1px, 1px, 1px, 1px);height: 1px;margin: -1px;overflow: hidden;padding: 0;position: absolute;width: 1px;}#sk-container-id-1 div.sk-estimator {font-family: monospace;background-color: #f0f8ff;border: 1px dotted black;border-radius: 0.25em;box-sizing: border-box;margin-bottom: 0.5em;}#sk-container-id-1 div.sk-estimator:hover {background-color: #d4ebff;}#sk-container-id-1 div.sk-parallel-item::after {content: \"\";width: 100%;border-bottom: 1px solid gray;flex-grow: 1;}#sk-container-id-1 div.sk-label:hover label.sk-toggleable__label {background-color: #d4ebff;}#sk-container-id-1 div.sk-serial::before {content: \"\";position: absolute;border-left: 1px solid gray;box-sizing: border-box;top: 0;bottom: 0;left: 50%;z-index: 0;}#sk-container-id-1 div.sk-serial {display: flex;flex-direction: column;align-items: center;background-color: white;padding-right: 0.2em;padding-left: 0.2em;position: relative;}#sk-container-id-1 div.sk-item {position: relative;z-index: 1;}#sk-container-id-1 div.sk-parallel {display: flex;align-items: stretch;justify-content: center;background-color: white;position: relative;}#sk-container-id-1 div.sk-item::before, #sk-container-id-1 div.sk-parallel-item::before {content: \"\";position: absolute;border-left: 1px solid gray;box-sizing: border-box;top: 0;bottom: 0;left: 50%;z-index: -1;}#sk-container-id-1 div.sk-parallel-item {display: flex;flex-direction: column;z-index: 1;position: relative;background-color: white;}#sk-container-id-1 div.sk-parallel-item:first-child::after {align-self: flex-end;width: 50%;}#sk-container-id-1 div.sk-parallel-item:last-child::after {align-self: flex-start;width: 50%;}#sk-container-id-1 div.sk-parallel-item:only-child::after {width: 0;}#sk-container-id-1 div.sk-dashed-wrapped {border: 1px dashed gray;margin: 0 0.4em 0.5em 0.4em;box-sizing: border-box;padding-bottom: 0.4em;background-color: white;}#sk-container-id-1 div.sk-label label {font-family: monospace;font-weight: bold;display: inline-block;line-height: 1.2em;}#sk-container-id-1 div.sk-label-container {text-align: center;}#sk-container-id-1 div.sk-container {/* jupyter's `normalize.less` sets `[hidden] { display: none; }` but bootstrap.min.css set `[hidden] { display: none !important; }` so we also need the `!important` here to be able to override the default hidden behavior on the sphinx rendered scikit-learn.org. See: https://github.com/scikit-learn/scikit-learn/issues/21755 */display: inline-block !important;position: relative;}#sk-container-id-1 div.sk-text-repr-fallback {display: none;}</style><div id=\"sk-container-id-1\" class=\"sk-top-container\"><div class=\"sk-text-repr-fallback\"><pre>Pipeline(steps=[(&#x27;reduce_memory&#x27;,\n",
       "                 ReduceMemoryUsageTransformer(col=[&#x27;PHOTO_DATE&#x27;,\n",
       "                                                   &#x27;SIT_SITE_ID&#x27;])),\n",
       "                (&#x27;imp_cat&#x27;, CategoricalImputer(imputation_method=&#x27;frequent&#x27;)),\n",
       "                (&#x27;imp_num&#x27;, MeanMedianImputer(imputation_method=&#x27;mean&#x27;)),\n",
       "                (&#x27;freq_encoder&#x27;, FrequencyEncoder()),\n",
       "                (&#x27;xgb_class&#x27;,\n",
       "                 XGBClassifier(base_score=None, booster=None, callbacks=None,\n",
       "                               colsample_bylevel=None, colsam...\n",
       "                               feature_types=None, gamma=None, grow_policy=None,\n",
       "                               importance_type=None,\n",
       "                               interaction_constraints=None, learning_rate=None,\n",
       "                               max_bin=None, max_cat_threshold=None,\n",
       "                               max_cat_to_onehot=None, max_delta_step=None,\n",
       "                               max_depth=None, max_leaves=None,\n",
       "                               min_child_weight=None, missing=nan,\n",
       "                               monotone_constraints=None, multi_strategy=None,\n",
       "                               n_estimators=None, n_jobs=None,\n",
       "                               num_parallel_tree=None, random_state=None, ...))])</pre><b>In a Jupyter environment, please rerun this cell to show the HTML representation or trust the notebook. <br />On GitHub, the HTML representation is unable to render, please try loading this page with nbviewer.org.</b></div><div class=\"sk-container\" hidden><div class=\"sk-item sk-dashed-wrapped\"><div class=\"sk-label-container\"><div class=\"sk-label sk-toggleable\"><input class=\"sk-toggleable__control sk-hidden--visually\" id=\"sk-estimator-id-1\" type=\"checkbox\" ><label for=\"sk-estimator-id-1\" class=\"sk-toggleable__label sk-toggleable__label-arrow\">Pipeline</label><div class=\"sk-toggleable__content\"><pre>Pipeline(steps=[(&#x27;reduce_memory&#x27;,\n",
       "                 ReduceMemoryUsageTransformer(col=[&#x27;PHOTO_DATE&#x27;,\n",
       "                                                   &#x27;SIT_SITE_ID&#x27;])),\n",
       "                (&#x27;imp_cat&#x27;, CategoricalImputer(imputation_method=&#x27;frequent&#x27;)),\n",
       "                (&#x27;imp_num&#x27;, MeanMedianImputer(imputation_method=&#x27;mean&#x27;)),\n",
       "                (&#x27;freq_encoder&#x27;, FrequencyEncoder()),\n",
       "                (&#x27;xgb_class&#x27;,\n",
       "                 XGBClassifier(base_score=None, booster=None, callbacks=None,\n",
       "                               colsample_bylevel=None, colsam...\n",
       "                               feature_types=None, gamma=None, grow_policy=None,\n",
       "                               importance_type=None,\n",
       "                               interaction_constraints=None, learning_rate=None,\n",
       "                               max_bin=None, max_cat_threshold=None,\n",
       "                               max_cat_to_onehot=None, max_delta_step=None,\n",
       "                               max_depth=None, max_leaves=None,\n",
       "                               min_child_weight=None, missing=nan,\n",
       "                               monotone_constraints=None, multi_strategy=None,\n",
       "                               n_estimators=None, n_jobs=None,\n",
       "                               num_parallel_tree=None, random_state=None, ...))])</pre></div></div></div><div class=\"sk-serial\"><div class=\"sk-item\"><div class=\"sk-estimator sk-toggleable\"><input class=\"sk-toggleable__control sk-hidden--visually\" id=\"sk-estimator-id-2\" type=\"checkbox\" ><label for=\"sk-estimator-id-2\" class=\"sk-toggleable__label sk-toggleable__label-arrow\">ReduceMemoryUsageTransformer</label><div class=\"sk-toggleable__content\"><pre>ReduceMemoryUsageTransformer(col=[&#x27;PHOTO_DATE&#x27;, &#x27;SIT_SITE_ID&#x27;])</pre></div></div></div><div class=\"sk-item\"><div class=\"sk-estimator sk-toggleable\"><input class=\"sk-toggleable__control sk-hidden--visually\" id=\"sk-estimator-id-3\" type=\"checkbox\" ><label for=\"sk-estimator-id-3\" class=\"sk-toggleable__label sk-toggleable__label-arrow\">CategoricalImputer</label><div class=\"sk-toggleable__content\"><pre>CategoricalImputer(imputation_method=&#x27;frequent&#x27;)</pre></div></div></div><div class=\"sk-item\"><div class=\"sk-estimator sk-toggleable\"><input class=\"sk-toggleable__control sk-hidden--visually\" id=\"sk-estimator-id-4\" type=\"checkbox\" ><label for=\"sk-estimator-id-4\" class=\"sk-toggleable__label sk-toggleable__label-arrow\">MeanMedianImputer</label><div class=\"sk-toggleable__content\"><pre>MeanMedianImputer(imputation_method=&#x27;mean&#x27;)</pre></div></div></div><div class=\"sk-item\"><div class=\"sk-estimator sk-toggleable\"><input class=\"sk-toggleable__control sk-hidden--visually\" id=\"sk-estimator-id-5\" type=\"checkbox\" ><label for=\"sk-estimator-id-5\" class=\"sk-toggleable__label sk-toggleable__label-arrow\">FrequencyEncoder</label><div class=\"sk-toggleable__content\"><pre>FrequencyEncoder()</pre></div></div></div><div class=\"sk-item\"><div class=\"sk-estimator sk-toggleable\"><input class=\"sk-toggleable__control sk-hidden--visually\" id=\"sk-estimator-id-6\" type=\"checkbox\" ><label for=\"sk-estimator-id-6\" class=\"sk-toggleable__label sk-toggleable__label-arrow\">XGBClassifier</label><div class=\"sk-toggleable__content\"><pre>XGBClassifier(base_score=None, booster=None, callbacks=None,\n",
       "              colsample_bylevel=None, colsample_bynode=None,\n",
       "              colsample_bytree=None, device=None, early_stopping_rounds=None,\n",
       "              enable_categorical=True, eval_metric=None, feature_types=None,\n",
       "              gamma=None, grow_policy=None, importance_type=None,\n",
       "              interaction_constraints=None, learning_rate=None, max_bin=None,\n",
       "              max_cat_threshold=None, max_cat_to_onehot=None,\n",
       "              max_delta_step=None, max_depth=None, max_leaves=None,\n",
       "              min_child_weight=None, missing=nan, monotone_constraints=None,\n",
       "              multi_strategy=None, n_estimators=None, n_jobs=None,\n",
       "              num_parallel_tree=None, random_state=None, ...)</pre></div></div></div></div></div></div></div>"
      ],
      "text/plain": [
       "Pipeline(steps=[('reduce_memory',\n",
       "                 ReduceMemoryUsageTransformer(col=['PHOTO_DATE',\n",
       "                                                   'SIT_SITE_ID'])),\n",
       "                ('imp_cat', CategoricalImputer(imputation_method='frequent')),\n",
       "                ('imp_num', MeanMedianImputer(imputation_method='mean')),\n",
       "                ('freq_encoder', FrequencyEncoder()),\n",
       "                ('xgb_class',\n",
       "                 XGBClassifier(base_score=None, booster=None, callbacks=None,\n",
       "                               colsample_bylevel=None, colsam...\n",
       "                               feature_types=None, gamma=None, grow_policy=None,\n",
       "                               importance_type=None,\n",
       "                               interaction_constraints=None, learning_rate=None,\n",
       "                               max_bin=None, max_cat_threshold=None,\n",
       "                               max_cat_to_onehot=None, max_delta_step=None,\n",
       "                               max_depth=None, max_leaves=None,\n",
       "                               min_child_weight=None, missing=nan,\n",
       "                               monotone_constraints=None, multi_strategy=None,\n",
       "                               n_estimators=None, n_jobs=None,\n",
       "                               num_parallel_tree=None, random_state=None, ...))])"
      ]
     },
     "execution_count": 8,
     "metadata": {},
     "output_type": "execute_result"
    }
   ],
   "source": [
    "pipe_feature_selection = pipe_feature_selection(**pipe_feature_selection_dict)\n",
    "pipe_feature_selection.fit(X_train, y_train)"
   ]
  },
  {
   "cell_type": "markdown",
   "metadata": {},
   "source": [
    "## Columns with feature importance equal to zero"
   ]
  },
  {
   "cell_type": "code",
   "execution_count": 9,
   "metadata": {},
   "outputs": [],
   "source": [
    "selected_columns = [\n",
    "    col\n",
    "    for col, importance in zip(\n",
    "        pipe_feature_selection.named_steps[\"xgb_class\"].get_booster().feature_names,\n",
    "        pipe_feature_selection.named_steps[\"xgb_class\"].feature_importances_,\n",
    "    )\n",
    "    if importance <= 0\n",
    "]"
   ]
  },
  {
   "cell_type": "markdown",
   "metadata": {},
   "source": [
    "The \"selected_columns\" are the columns that should be removed from the dataset as they do not enrich the model"
   ]
  },
  {
   "cell_type": "code",
   "execution_count": 36,
   "metadata": {},
   "outputs": [],
   "source": [
    "reduce_memory_usage_transformer_dict = {\n",
    "    \"feature_selection\": True,\n",
    "    \"col_selec\": selected_columns,\n",
    "}"
   ]
  },
  {
   "cell_type": "code",
   "execution_count": 37,
   "metadata": {},
   "outputs": [],
   "source": [
    "memory_step = ReduceMemoryUsageTransformer(**reduce_memory_usage_transformer_dict)"
   ]
  },
  {
   "cell_type": "code",
   "execution_count": 38,
   "metadata": {},
   "outputs": [
    {
     "data": {
      "text/html": [
       "<style>#sk-container-id-3 {color: black;}#sk-container-id-3 pre{padding: 0;}#sk-container-id-3 div.sk-toggleable {background-color: white;}#sk-container-id-3 label.sk-toggleable__label {cursor: pointer;display: block;width: 100%;margin-bottom: 0;padding: 0.3em;box-sizing: border-box;text-align: center;}#sk-container-id-3 label.sk-toggleable__label-arrow:before {content: \"▸\";float: left;margin-right: 0.25em;color: #696969;}#sk-container-id-3 label.sk-toggleable__label-arrow:hover:before {color: black;}#sk-container-id-3 div.sk-estimator:hover label.sk-toggleable__label-arrow:before {color: black;}#sk-container-id-3 div.sk-toggleable__content {max-height: 0;max-width: 0;overflow: hidden;text-align: left;background-color: #f0f8ff;}#sk-container-id-3 div.sk-toggleable__content pre {margin: 0.2em;color: black;border-radius: 0.25em;background-color: #f0f8ff;}#sk-container-id-3 input.sk-toggleable__control:checked~div.sk-toggleable__content {max-height: 200px;max-width: 100%;overflow: auto;}#sk-container-id-3 input.sk-toggleable__control:checked~label.sk-toggleable__label-arrow:before {content: \"▾\";}#sk-container-id-3 div.sk-estimator input.sk-toggleable__control:checked~label.sk-toggleable__label {background-color: #d4ebff;}#sk-container-id-3 div.sk-label input.sk-toggleable__control:checked~label.sk-toggleable__label {background-color: #d4ebff;}#sk-container-id-3 input.sk-hidden--visually {border: 0;clip: rect(1px 1px 1px 1px);clip: rect(1px, 1px, 1px, 1px);height: 1px;margin: -1px;overflow: hidden;padding: 0;position: absolute;width: 1px;}#sk-container-id-3 div.sk-estimator {font-family: monospace;background-color: #f0f8ff;border: 1px dotted black;border-radius: 0.25em;box-sizing: border-box;margin-bottom: 0.5em;}#sk-container-id-3 div.sk-estimator:hover {background-color: #d4ebff;}#sk-container-id-3 div.sk-parallel-item::after {content: \"\";width: 100%;border-bottom: 1px solid gray;flex-grow: 1;}#sk-container-id-3 div.sk-label:hover label.sk-toggleable__label {background-color: #d4ebff;}#sk-container-id-3 div.sk-serial::before {content: \"\";position: absolute;border-left: 1px solid gray;box-sizing: border-box;top: 0;bottom: 0;left: 50%;z-index: 0;}#sk-container-id-3 div.sk-serial {display: flex;flex-direction: column;align-items: center;background-color: white;padding-right: 0.2em;padding-left: 0.2em;position: relative;}#sk-container-id-3 div.sk-item {position: relative;z-index: 1;}#sk-container-id-3 div.sk-parallel {display: flex;align-items: stretch;justify-content: center;background-color: white;position: relative;}#sk-container-id-3 div.sk-item::before, #sk-container-id-3 div.sk-parallel-item::before {content: \"\";position: absolute;border-left: 1px solid gray;box-sizing: border-box;top: 0;bottom: 0;left: 50%;z-index: -1;}#sk-container-id-3 div.sk-parallel-item {display: flex;flex-direction: column;z-index: 1;position: relative;background-color: white;}#sk-container-id-3 div.sk-parallel-item:first-child::after {align-self: flex-end;width: 50%;}#sk-container-id-3 div.sk-parallel-item:last-child::after {align-self: flex-start;width: 50%;}#sk-container-id-3 div.sk-parallel-item:only-child::after {width: 0;}#sk-container-id-3 div.sk-dashed-wrapped {border: 1px dashed gray;margin: 0 0.4em 0.5em 0.4em;box-sizing: border-box;padding-bottom: 0.4em;background-color: white;}#sk-container-id-3 div.sk-label label {font-family: monospace;font-weight: bold;display: inline-block;line-height: 1.2em;}#sk-container-id-3 div.sk-label-container {text-align: center;}#sk-container-id-3 div.sk-container {/* jupyter's `normalize.less` sets `[hidden] { display: none; }` but bootstrap.min.css set `[hidden] { display: none !important; }` so we also need the `!important` here to be able to override the default hidden behavior on the sphinx rendered scikit-learn.org. See: https://github.com/scikit-learn/scikit-learn/issues/21755 */display: inline-block !important;position: relative;}#sk-container-id-3 div.sk-text-repr-fallback {display: none;}</style><div id=\"sk-container-id-3\" class=\"sk-top-container\"><div class=\"sk-text-repr-fallback\"><pre>ReduceMemoryUsageTransformer(col_selec=[&#x27;TPV__SUM__OP_COW_API_DOL__MTS__30&#x27;,\n",
       "                                        &#x27;TPV__SUM__ON_DOL__MTS__30&#x27;,\n",
       "                                        &#x27;FIRST_LOGIN_ML_YEARS__MAU__LK&#x27;,\n",
       "                                        &#x27;TPN__SUM__MAF_TED__IND__30&#x27;,\n",
       "                                        &#x27;TPV__SUM__MAP4_CRIPTO__IND__30&#x27;,\n",
       "                                        &#x27;TPN__SUM__MAP3_PASE__IND__30&#x27;,\n",
       "                                        &#x27;TPV__SUM__MAR_TED__IND__30&#x27;,\n",
       "                                        &#x27;TPN__SUM__MAW2_CARD_WTHDRWL__IND__30&#x27;,\n",
       "                                        &#x27;TRACKS__SUM__MONEY_IN_MP__TRK__30&#x27;,\n",
       "                                        &#x27;TRACKS__SUM__MOB...\n",
       "                                        &#x27;HITS__SUM__DOMAIN_AGG2__MONITORS_ACCESSORIES__OAM__30&#x27;,\n",
       "                                        &#x27;HITS__SUM__DOMAIN_AGG2__POWERTOOLS__OAM__30&#x27;,\n",
       "                                        &#x27;HITS__SUM__DOMAIN_AGG2__OUTDOORFURNITURE__OAM__30&#x27;,\n",
       "                                        &#x27;HITS__SUM__DOMAIN_AGG2__KITCHENHOME__OAM__30&#x27;,\n",
       "                                        &#x27;HITS__SUM__DOMAIN_AGG2__REPLACEMENTMOTOPARTS__OAM__30&#x27;,\n",
       "                                        &#x27;HITS__SUM__DOMAIN_AGG2__FOOTBALL__OAM__30&#x27;,\n",
       "                                        &#x27;HITS__SUM__DOMAIN_AGG2__MOUNTABLETOYVEHICLES__OAM__30&#x27;, ...],\n",
       "                             feature_selection=True)</pre><b>In a Jupyter environment, please rerun this cell to show the HTML representation or trust the notebook. <br />On GitHub, the HTML representation is unable to render, please try loading this page with nbviewer.org.</b></div><div class=\"sk-container\" hidden><div class=\"sk-item\"><div class=\"sk-estimator sk-toggleable\"><input class=\"sk-toggleable__control sk-hidden--visually\" id=\"sk-estimator-id-8\" type=\"checkbox\" checked><label for=\"sk-estimator-id-8\" class=\"sk-toggleable__label sk-toggleable__label-arrow\">ReduceMemoryUsageTransformer</label><div class=\"sk-toggleable__content\"><pre>ReduceMemoryUsageTransformer(col_selec=[&#x27;TPV__SUM__OP_COW_API_DOL__MTS__30&#x27;,\n",
       "                                        &#x27;TPV__SUM__ON_DOL__MTS__30&#x27;,\n",
       "                                        &#x27;FIRST_LOGIN_ML_YEARS__MAU__LK&#x27;,\n",
       "                                        &#x27;TPN__SUM__MAF_TED__IND__30&#x27;,\n",
       "                                        &#x27;TPV__SUM__MAP4_CRIPTO__IND__30&#x27;,\n",
       "                                        &#x27;TPN__SUM__MAP3_PASE__IND__30&#x27;,\n",
       "                                        &#x27;TPV__SUM__MAR_TED__IND__30&#x27;,\n",
       "                                        &#x27;TPN__SUM__MAW2_CARD_WTHDRWL__IND__30&#x27;,\n",
       "                                        &#x27;TRACKS__SUM__MONEY_IN_MP__TRK__30&#x27;,\n",
       "                                        &#x27;TRACKS__SUM__MOB...\n",
       "                                        &#x27;HITS__SUM__DOMAIN_AGG2__MONITORS_ACCESSORIES__OAM__30&#x27;,\n",
       "                                        &#x27;HITS__SUM__DOMAIN_AGG2__POWERTOOLS__OAM__30&#x27;,\n",
       "                                        &#x27;HITS__SUM__DOMAIN_AGG2__OUTDOORFURNITURE__OAM__30&#x27;,\n",
       "                                        &#x27;HITS__SUM__DOMAIN_AGG2__KITCHENHOME__OAM__30&#x27;,\n",
       "                                        &#x27;HITS__SUM__DOMAIN_AGG2__REPLACEMENTMOTOPARTS__OAM__30&#x27;,\n",
       "                                        &#x27;HITS__SUM__DOMAIN_AGG2__FOOTBALL__OAM__30&#x27;,\n",
       "                                        &#x27;HITS__SUM__DOMAIN_AGG2__MOUNTABLETOYVEHICLES__OAM__30&#x27;, ...],\n",
       "                             feature_selection=True)</pre></div></div></div></div></div>"
      ],
      "text/plain": [
       "ReduceMemoryUsageTransformer(col_selec=['TPV__SUM__OP_COW_API_DOL__MTS__30',\n",
       "                                        'TPV__SUM__ON_DOL__MTS__30',\n",
       "                                        'FIRST_LOGIN_ML_YEARS__MAU__LK',\n",
       "                                        'TPN__SUM__MAF_TED__IND__30',\n",
       "                                        'TPV__SUM__MAP4_CRIPTO__IND__30',\n",
       "                                        'TPN__SUM__MAP3_PASE__IND__30',\n",
       "                                        'TPV__SUM__MAR_TED__IND__30',\n",
       "                                        'TPN__SUM__MAW2_CARD_WTHDRWL__IND__30',\n",
       "                                        'TRACKS__SUM__MONEY_IN_MP__TRK__30',\n",
       "                                        'TRACKS__SUM__MOB...\n",
       "                                        'HITS__SUM__DOMAIN_AGG2__MONITORS_ACCESSORIES__OAM__30',\n",
       "                                        'HITS__SUM__DOMAIN_AGG2__POWERTOOLS__OAM__30',\n",
       "                                        'HITS__SUM__DOMAIN_AGG2__OUTDOORFURNITURE__OAM__30',\n",
       "                                        'HITS__SUM__DOMAIN_AGG2__KITCHENHOME__OAM__30',\n",
       "                                        'HITS__SUM__DOMAIN_AGG2__REPLACEMENTMOTOPARTS__OAM__30',\n",
       "                                        'HITS__SUM__DOMAIN_AGG2__FOOTBALL__OAM__30',\n",
       "                                        'HITS__SUM__DOMAIN_AGG2__MOUNTABLETOYVEHICLES__OAM__30', ...],\n",
       "                             feature_selection=True)"
      ]
     },
     "execution_count": 38,
     "metadata": {},
     "output_type": "execute_result"
    }
   ],
   "source": [
    "memory_step.fit(X_train, y_train)"
   ]
  },
  {
   "cell_type": "markdown",
   "metadata": {},
   "source": [
    "# Pipeline"
   ]
  },
  {
   "cell_type": "markdown",
   "metadata": {},
   "source": [
    "## params extractor"
   ]
  },
  {
   "cell_type": "code",
   "execution_count": 40,
   "metadata": {},
   "outputs": [],
   "source": [
    "def extract_best_params(url_file):\n",
    "    with open(url_file, \"r\") as yaml_file:\n",
    "        config = yaml.safe_load(yaml_file)\n",
    "        num_imputer = config.pop(\"imp_num\")\n",
    "        cat_imputer = config.pop(\"imp_cat\")\n",
    "    return config, num_imputer, cat_imputer"
   ]
  },
  {
   "cell_type": "markdown",
   "metadata": {},
   "source": [
    "## Frequency Encoder"
   ]
  },
  {
   "cell_type": "code",
   "execution_count": 41,
   "metadata": {},
   "outputs": [],
   "source": [
    "def preprocess_freq_encoder_pipe(imp_cat, imp_num):\n",
    "    preprocess_freq_encoder_pipe = ColumnTransformer(\n",
    "        transformers=[\n",
    "            (\n",
    "                \"cat\",\n",
    "                Pipeline(\n",
    "                    [\n",
    "                        (\"imputing\", CategoricalImputer(imputation_method=imp_cat)),\n",
    "                        (\"encoding\", freq_encoder()),\n",
    "                    ]\n",
    "                ),\n",
    "                memory_step.fit_transform(X_train).select_dtypes(\"object\").columns,\n",
    "            ),\n",
    "            (\n",
    "                \"num\",\n",
    "                Pipeline(\n",
    "                    [\n",
    "                        (\"imputing\", MeanMedianImputer(imputation_method=imp_num)),\n",
    "                    ]\n",
    "                ),\n",
    "                memory_step.fit_transform(X_train).select_dtypes(\"number\").columns,\n",
    "            ),\n",
    "        ]\n",
    "    )\n",
    "    return preprocess_freq_encoder_pipe"
   ]
  },
  {
   "cell_type": "markdown",
   "metadata": {},
   "source": [
    "## One Hot Encoder"
   ]
  },
  {
   "cell_type": "code",
   "execution_count": 42,
   "metadata": {},
   "outputs": [],
   "source": [
    "def preprocess_one_hot_encoder_pipe(imp_cat, imp_num):\n",
    "    preprocess_one_hot_encoder_pipe = ColumnTransformer(\n",
    "        transformers=[\n",
    "            (\n",
    "                \"cat\",\n",
    "                Pipeline(\n",
    "                    [\n",
    "                        (\"imputing\", CategoricalImputer(imputation_method=imp_cat)),\n",
    "                        (\"encoding\", freq_encoder()),\n",
    "                    ]\n",
    "                ),\n",
    "                memory_step.fit_transform(X_train).select_dtypes(\"object\").columns,\n",
    "            ),\n",
    "            (\n",
    "                \"num\",\n",
    "                Pipeline(\n",
    "                    [\n",
    "                        (\"imputing\", MeanMedianImputer(imputation_method=imp_num)),\n",
    "                    ]\n",
    "                ),\n",
    "                memory_step.fit_transform(X_train).select_dtypes(\"number\").columns,\n",
    "            ),\n",
    "        ]\n",
    "    )\n",
    "    return preprocess_one_hot_encoder_pipe"
   ]
  },
  {
   "cell_type": "markdown",
   "metadata": {},
   "source": [
    "## XGBoost"
   ]
  },
  {
   "cell_type": "markdown",
   "metadata": {},
   "source": [
    "### Pipeline XGBoost Frequency Enconding"
   ]
  },
  {
   "cell_type": "markdown",
   "metadata": {},
   "source": [
    "#### params"
   ]
  },
  {
   "cell_type": "code",
   "execution_count": 43,
   "metadata": {},
   "outputs": [],
   "source": [
    "url_xgb_fe = (\n",
    "    os.getcwd() + \"/../conf/best_hiperparameters/xgboost_frequency_encoder.yaml\"\n",
    ")\n",
    "cfg_xgb_fe, cfg_xgb_fe_imp_num, cfg_xgb_fe_imp_cat  = extract_best_params(url_xgb_fe)"
   ]
  },
  {
   "cell_type": "markdown",
   "metadata": {},
   "source": [
    "#### pipe"
   ]
  },
  {
   "cell_type": "code",
   "execution_count": 45,
   "metadata": {},
   "outputs": [],
   "source": [
    "model_xgb_fe_pipe = Pipeline(\n",
    "    [\n",
    "        (\"pipe_prep\", memory_step),\n",
    "        (\n",
    "            \"pipe_end\",\n",
    "            preprocess_freq_encoder_pipe(\n",
    "                imp_cat=cfg_xgb_fe_imp_cat, imp_num=cfg_xgb_fe_imp_num\n",
    "            ),\n",
    "        ),\n",
    "        (\"model\", XGBClassifier(**cfg_xgb_fe)),\n",
    "    ]\n",
    ")"
   ]
  },
  {
   "cell_type": "markdown",
   "metadata": {},
   "source": [
    "### Pipeline XGBoost One Hot Encoding"
   ]
  },
  {
   "cell_type": "markdown",
   "metadata": {},
   "source": [
    "#### params"
   ]
  },
  {
   "cell_type": "code",
   "execution_count": 48,
   "metadata": {},
   "outputs": [
    {
     "ename": "AttributeError",
     "evalue": "'NoneType' object has no attribute 'pop'",
     "output_type": "error",
     "traceback": [
      "\u001b[0;31m---------------------------------------------------------------------------\u001b[0m",
      "\u001b[0;31mAttributeError\u001b[0m                            Traceback (most recent call last)",
      "Cell \u001b[0;32mIn[48], line 2\u001b[0m\n\u001b[1;32m      1\u001b[0m url_xgb_ohe \u001b[38;5;241m=\u001b[39m os\u001b[38;5;241m.\u001b[39mgetcwd() \u001b[38;5;241m+\u001b[39m \u001b[38;5;124m\"\u001b[39m\u001b[38;5;124m/../conf/best_hiperparameters/xgboost_one_hot_encoder.yaml\u001b[39m\u001b[38;5;124m\"\u001b[39m\n\u001b[0;32m----> 2\u001b[0m cfg_xgb_ohe, cfg_xgb_ohe_imp_num, cfg_xgb_ohe_imp_cat  \u001b[38;5;241m=\u001b[39m \u001b[43mextract_best_params\u001b[49m\u001b[43m(\u001b[49m\u001b[43murl_xgb_ohe\u001b[49m\u001b[43m)\u001b[49m\n",
      "Cell \u001b[0;32mIn[40], line 4\u001b[0m, in \u001b[0;36mextract_best_params\u001b[0;34m(url_file)\u001b[0m\n\u001b[1;32m      2\u001b[0m \u001b[38;5;28;01mwith\u001b[39;00m \u001b[38;5;28mopen\u001b[39m(url_file, \u001b[38;5;124m\"\u001b[39m\u001b[38;5;124mr\u001b[39m\u001b[38;5;124m\"\u001b[39m) \u001b[38;5;28;01mas\u001b[39;00m yaml_file:\n\u001b[1;32m      3\u001b[0m     config \u001b[38;5;241m=\u001b[39m yaml\u001b[38;5;241m.\u001b[39msafe_load(yaml_file)\n\u001b[0;32m----> 4\u001b[0m     num_imputer \u001b[38;5;241m=\u001b[39m \u001b[43mconfig\u001b[49m\u001b[38;5;241;43m.\u001b[39;49m\u001b[43mpop\u001b[49m(\u001b[38;5;124m\"\u001b[39m\u001b[38;5;124mimp_num\u001b[39m\u001b[38;5;124m\"\u001b[39m)\n\u001b[1;32m      5\u001b[0m     cat_imputer \u001b[38;5;241m=\u001b[39m config\u001b[38;5;241m.\u001b[39mpop(\u001b[38;5;124m\"\u001b[39m\u001b[38;5;124mimp_cat\u001b[39m\u001b[38;5;124m\"\u001b[39m)\n\u001b[1;32m      6\u001b[0m \u001b[38;5;28;01mreturn\u001b[39;00m config, num_imputer, cat_imputer\n",
      "\u001b[0;31mAttributeError\u001b[0m: 'NoneType' object has no attribute 'pop'"
     ]
    }
   ],
   "source": [
    "url_xgb_ohe = os.getcwd() + \"/../conf/best_hiperparameters/xgboost_one_hot_encoder.yaml\"\n",
    "cfg_xgb_ohe, cfg_xgb_ohe_imp_num, cfg_xgb_ohe_imp_cat  = extract_best_params(url_xgb_ohe)"
   ]
  },
  {
   "cell_type": "markdown",
   "metadata": {},
   "source": [
    "#### pipe"
   ]
  },
  {
   "cell_type": "code",
   "execution_count": 46,
   "metadata": {},
   "outputs": [
    {
     "ename": "NameError",
     "evalue": "name 'cfg_xgb_ohe_imp_cat' is not defined",
     "output_type": "error",
     "traceback": [
      "\u001b[0;31m---------------------------------------------------------------------------\u001b[0m",
      "\u001b[0;31mNameError\u001b[0m                                 Traceback (most recent call last)",
      "Cell \u001b[0;32mIn[46], line 7\u001b[0m\n\u001b[1;32m      1\u001b[0m model_xgb_ohe_pipe \u001b[38;5;241m=\u001b[39m Pipeline(\n\u001b[1;32m      2\u001b[0m     [\n\u001b[1;32m      3\u001b[0m         (\u001b[38;5;124m\"\u001b[39m\u001b[38;5;124mpipe_prep\u001b[39m\u001b[38;5;124m\"\u001b[39m, memory_step),\n\u001b[1;32m      4\u001b[0m         (\n\u001b[1;32m      5\u001b[0m             \u001b[38;5;124m\"\u001b[39m\u001b[38;5;124mpipe_end\u001b[39m\u001b[38;5;124m\"\u001b[39m,\n\u001b[1;32m      6\u001b[0m             preprocess_one_hot_encoder_pipe(\n\u001b[0;32m----> 7\u001b[0m                 imp_cat\u001b[38;5;241m=\u001b[39m\u001b[43mcfg_xgb_ohe_imp_cat\u001b[49m, imp_num\u001b[38;5;241m=\u001b[39mcfg_xgb_ohe_imp_num\n\u001b[1;32m      8\u001b[0m             ),\n\u001b[1;32m      9\u001b[0m         ),\n\u001b[1;32m     10\u001b[0m         (\u001b[38;5;124m\"\u001b[39m\u001b[38;5;124mmodel\u001b[39m\u001b[38;5;124m\"\u001b[39m, XGBClassifier(\u001b[38;5;241m*\u001b[39m\u001b[38;5;241m*\u001b[39mcfg_xgb_ohe)),\n\u001b[1;32m     11\u001b[0m     ]\n\u001b[1;32m     12\u001b[0m )\n",
      "\u001b[0;31mNameError\u001b[0m: name 'cfg_xgb_ohe_imp_cat' is not defined"
     ]
    }
   ],
   "source": [
    "model_xgb_ohe_pipe = Pipeline(\n",
    "    [\n",
    "        (\"pipe_prep\", memory_step),\n",
    "        (\n",
    "            \"pipe_end\",\n",
    "            preprocess_one_hot_encoder_pipe(\n",
    "                imp_cat=cfg_xgb_ohe_imp_cat, imp_num=cfg_xgb_ohe_imp_num\n",
    "            ),\n",
    "        ),\n",
    "        (\"model\", XGBClassifier(**cfg_xgb_ohe)),\n",
    "    ]\n",
    ")"
   ]
  },
  {
   "cell_type": "markdown",
   "metadata": {},
   "source": [
    "## LightGBM"
   ]
  },
  {
   "cell_type": "markdown",
   "metadata": {},
   "source": [
    "### Pipeline LightGBM Frequency Encoding"
   ]
  },
  {
   "cell_type": "markdown",
   "metadata": {},
   "source": [
    "#### params"
   ]
  },
  {
   "cell_type": "code",
   "execution_count": null,
   "metadata": {},
   "outputs": [],
   "source": [
    "url_lgbm_fe = (\n",
    "    os.getcwd() + \"/../conf/best_hiperparameters/lightgbm_frequency_encoder.yaml\"\n",
    ")\n",
    "cfg_lgbm_fe, cfg_lgbm_fe_imp_num, cfg_lgbm_fe_imp_cat = extract_best_params(url_lgbm_fe)"
   ]
  },
  {
   "cell_type": "markdown",
   "metadata": {},
   "source": [
    "#### pipe"
   ]
  },
  {
   "cell_type": "code",
   "execution_count": null,
   "metadata": {},
   "outputs": [],
   "source": [
    "model_lgbm_fe_pipe = Pipeline(\n",
    "    [\n",
    "        (\"pipe_prep\", memory_step),\n",
    "        (\n",
    "            \"pipe_end\",\n",
    "            preprocess_freq_encoder_pipe(\n",
    "                imp_cat=cfg_lgbm_fe_imp_cat, cfg_lgbm_fe_imp_num\n",
    "            ),\n",
    "        ),\n",
    "        (\"model\", LGBMClassifier(**cfg_lgbm_fe)),\n",
    "    ]\n",
    ")"
   ]
  },
  {
   "cell_type": "markdown",
   "metadata": {},
   "source": [
    "### Pipeline LightGBM One Hot Encoding"
   ]
  },
  {
   "cell_type": "markdown",
   "metadata": {},
   "source": [
    "#### params"
   ]
  },
  {
   "cell_type": "code",
   "execution_count": null,
   "metadata": {},
   "outputs": [],
   "source": [
    "url_lgbm_ohe = (\n",
    "    os.getcwd() + \"/../conf/best_hiperparameters/lightgbm_one_hot_encoder.yaml\"\n",
    ")\n",
    "cfg_lgbm_ohe, cfg_lgbm_ohe_imp_num, cfg_lgbm_ohe_imp_cat = extract_best_params(url_lgbm_ohe)"
   ]
  },
  {
   "cell_type": "markdown",
   "metadata": {},
   "source": [
    "#### pipe"
   ]
  },
  {
   "cell_type": "code",
   "execution_count": null,
   "metadata": {},
   "outputs": [],
   "source": [
    "model_lgbm_ohe_pipe = Pipeline(\n",
    "    [\n",
    "        (\"pipe_prep\", memory_step),\n",
    "        (\"pipe_end\", preprocess_one_hot_encoder_pipe(\n",
    "            imp_cat=cfg_lgbm_ohe_imp_cat, imp_num=cfg_lgbm_ohe_imp_num\n",
    "        )),\n",
    "        (\"model\", LGBMClassifier(**cfg_lgbm_ohe)),\n",
    "    ]\n",
    ")"
   ]
  },
  {
   "cell_type": "markdown",
   "metadata": {},
   "source": [
    "## Logistic Regression"
   ]
  },
  {
   "cell_type": "markdown",
   "metadata": {},
   "source": [
    "### Pipeline Logistic Regression Frequency Encoding"
   ]
  },
  {
   "cell_type": "markdown",
   "metadata": {},
   "source": [
    "#### params"
   ]
  },
  {
   "cell_type": "code",
   "execution_count": null,
   "metadata": {},
   "outputs": [],
   "source": [
    "url_lgr_fe = (\n",
    "    os.getcwd()\n",
    "    + \"/../conf/best_hiperparameters/logidtic_regression_frequency_encoder.yaml\"\n",
    ")\n",
    "cfg_lgr_fe, cfg_lgr_fe_imp_num, cfg_lgr_fe_imp_cat = extract_best_params(url_lgr_fe)"
   ]
  },
  {
   "cell_type": "markdown",
   "metadata": {},
   "source": [
    "#### pipe"
   ]
  },
  {
   "cell_type": "code",
   "execution_count": null,
   "metadata": {},
   "outputs": [],
   "source": [
    "model_lgr_fe_pipe = Pipeline(\n",
    "    [\n",
    "        (\"pipe_prep\", memory_step),\n",
    "        (\"pipe_end\", preprocess_freq_encoder_pipe(\n",
    "            imp_cat=cfg_lgr_fe_imp_cat, imp_num=cfg_lgr_fe_imp_num\n",
    "        )),\n",
    "        (\"model\", LogisticRegression(**cfg_lgr_fe)),\n",
    "    ]\n",
    ")"
   ]
  },
  {
   "cell_type": "markdown",
   "metadata": {},
   "source": [
    "### Pipeline Logistic Regression One Hot Encoding"
   ]
  },
  {
   "cell_type": "markdown",
   "metadata": {},
   "source": [
    "#### params"
   ]
  },
  {
   "cell_type": "code",
   "execution_count": null,
   "metadata": {},
   "outputs": [],
   "source": [
    "url_lgr_ohe = (\n",
    "    os.getcwd()\n",
    "    + \"/../conf/best_hiperparameters/logidtic_regression_one_hot_encoder.yaml\"\n",
    ")\n",
    "cfg_lgr_ohe, cfg_lgr_ohe_imp_num, cfg_lgr_ohe_imp_cat = extract_best_params(url_lgr_ohe)"
   ]
  },
  {
   "cell_type": "code",
   "execution_count": null,
   "metadata": {},
   "outputs": [],
   "source": [
    "model_lgr_ohe_pipe = Pipeline(\n",
    "    [\n",
    "        (\"pipe_prep\", memory_step),\n",
    "        (\"pipe_end\", preprocess_one_hot_encoder_pipe(\n",
    "            imp_cat=cfg_lgr_ohe_imp_cat, imp_num=cfg_lgr_ohe_imp_num\n",
    "        )),\n",
    "        (\"model\", LogisticRegression(**cfg_lgr_ohe)),\n",
    "    ]\n",
    ")"
   ]
  },
  {
   "cell_type": "markdown",
   "metadata": {},
   "source": [
    "## Random Forest"
   ]
  },
  {
   "cell_type": "markdown",
   "metadata": {},
   "source": [
    "### Pipeline Random Forest Frequency Encoding"
   ]
  },
  {
   "cell_type": "markdown",
   "metadata": {},
   "source": [
    "#### params"
   ]
  },
  {
   "cell_type": "code",
   "execution_count": null,
   "metadata": {},
   "outputs": [],
   "source": [
    "url_rf_fe = (\n",
    "    os.getcwd() + \"/../conf/best_hiperparameters/random_forest_frequency_encoder.yaml\"\n",
    ")\n",
    "cfg_rf_fe, cfg_rf_fe_imp_num, cfg_rf_fe_imp_cat = extract_best_params(url_rf_fe)"
   ]
  },
  {
   "cell_type": "markdown",
   "metadata": {},
   "source": [
    "#### pipe"
   ]
  },
  {
   "cell_type": "code",
   "execution_count": null,
   "metadata": {},
   "outputs": [],
   "source": [
    "model_rf_fe_pipe = Pipeline(\n",
    "    [\n",
    "        (\"pipe_prep\", memory_step),\n",
    "        (\"pipe_end\", preprocess_freq_encoder_pipe(\n",
    "            imp_cat=cfg_rf_fe_imp_cat, imp_num=cfg_rf_fe_imp_num\n",
    "        )),\n",
    "        (\"model\", RandomForestClassifier(**cfg_rf_fe)),\n",
    "    ]\n",
    ")"
   ]
  },
  {
   "cell_type": "markdown",
   "metadata": {},
   "source": [
    "### Pipeline Random Forest One Hot Encoding"
   ]
  },
  {
   "cell_type": "markdown",
   "metadata": {},
   "source": [
    "#### params"
   ]
  },
  {
   "cell_type": "code",
   "execution_count": null,
   "metadata": {},
   "outputs": [],
   "source": [
    "url_rf_ohe = (\n",
    "    os.getcwd() + \"/../conf/best_hiperparameters/random_forest_one_hot_encoder.yaml\"\n",
    ")\n",
    "cfg_rf_ohe, cfg_rf_ohe_imp_num, cfg_rf_ohe_imp_cat = extract_best_params(url_rf_ohe)"
   ]
  },
  {
   "cell_type": "code",
   "execution_count": null,
   "metadata": {},
   "outputs": [],
   "source": [
    "model_rf_ohe_pipe = Pipeline(\n",
    "    [\n",
    "        (\"pipe_prep\", memory_step),\n",
    "        (\"pipe_end\", preprocess_one_hot_encoder_pipe(\n",
    "            imp_cat=cfg_rf_ohe_imp_cat, imp_num=cfg_rf_ohe_imp_num\n",
    "        )),\n",
    "        (\"model\", RandomForestClassifier(**cfg_rf_ohe)),\n",
    "    ]\n",
    ")"
   ]
  },
  {
   "cell_type": "markdown",
   "metadata": {},
   "source": [
    "# Fit Model"
   ]
  }
 ],
 "metadata": {
  "kernelspec": {
   "display_name": "wine_quality",
   "language": "python",
   "name": "python3"
  },
  "language_info": {
   "codemirror_mode": {
    "name": "ipython",
    "version": 3
   },
   "file_extension": ".py",
   "mimetype": "text/x-python",
   "name": "python",
   "nbconvert_exporter": "python",
   "pygments_lexer": "ipython3",
   "version": "3.11.7"
  }
 },
 "nbformat": 4,
 "nbformat_minor": 2
}
